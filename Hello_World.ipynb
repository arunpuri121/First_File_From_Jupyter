{
 "cells": [
  {
   "cell_type": "markdown",
   "id": "e6eba749",
   "metadata": {},
   "source": [
    "### Print Hello World"
   ]
  },
  {
   "cell_type": "code",
   "execution_count": 2,
   "id": "b0470b79",
   "metadata": {},
   "outputs": [
    {
     "name": "stdout",
     "output_type": "stream",
     "text": [
      "hello World\n"
     ]
    }
   ],
   "source": [
    "print('hello World')"
   ]
  },
  {
   "cell_type": "markdown",
   "id": "f0e695ad",
   "metadata": {},
   "source": [
    "### Printing My Name"
   ]
  },
  {
   "cell_type": "code",
   "execution_count": 3,
   "id": "8b9a3ebb",
   "metadata": {},
   "outputs": [
    {
     "name": "stdout",
     "output_type": "stream",
     "text": [
      "arun puri\n"
     ]
    }
   ],
   "source": [
    "print(\"arun puri\")\n"
   ]
  },
  {
   "cell_type": "code",
   "execution_count": 4,
   "id": "ec8c8d25",
   "metadata": {},
   "outputs": [
    {
     "name": "stdout",
     "output_type": "stream",
     "text": [
      "arun puri\n"
     ]
    }
   ],
   "source": [
    "print('arun puri')"
   ]
  },
  {
   "cell_type": "code",
   "execution_count": 6,
   "id": "b764028e",
   "metadata": {},
   "outputs": [
    {
     "name": "stdout",
     "output_type": "stream",
     "text": [
      "arun puri\n"
     ]
    }
   ],
   "source": [
    "print('arun puri')"
   ]
  },
  {
   "cell_type": "markdown",
   "id": "3532c4cc",
   "metadata": {},
   "source": [
    "### Note: String should by marked by inverted commas\n",
    "Python is Case sensitive"
   ]
  },
  {
   "cell_type": "code",
   "execution_count": null,
   "id": "3d59eba8",
   "metadata": {},
   "outputs": [],
   "source": []
  }
 ],
 "metadata": {
  "kernelspec": {
   "display_name": "Python 3 (ipykernel)",
   "language": "python",
   "name": "python3"
  },
  "language_info": {
   "codemirror_mode": {
    "name": "ipython",
    "version": 3
   },
   "file_extension": ".py",
   "mimetype": "text/x-python",
   "name": "python",
   "nbconvert_exporter": "python",
   "pygments_lexer": "ipython3",
   "version": "3.11.5"
  }
 },
 "nbformat": 4,
 "nbformat_minor": 5
}
